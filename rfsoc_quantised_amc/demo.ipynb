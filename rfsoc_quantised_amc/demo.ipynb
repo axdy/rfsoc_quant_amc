{
 "cells": [
  {
   "cell_type": "markdown",
   "id": "bf32cb83-d037-498b-8625-abefa60b0464",
   "metadata": {},
   "source": [
    "# Demo Notebook for Custom Quantised-CNN architecture for Modulation Classification on AMD RFSoC\n",
    "----\n",
    "This demo presents a modulation classification application for modulation schemes transmitted wirelessly operating in real-time on the **AMD RFSoC2x2 development board**."
   ]
  },
  {
   "cell_type": "markdown",
   "id": "a127c08d-9ece-49fd-b18a-3a193fb3fbc0",
   "metadata": {},
   "source": [
    "## Modulation Classification\n",
    "**Modulation Classification** is the task of identifying what modulation scheme a received signal has been encoded with. The possible modulation schemes are:\n",
    "- 8PSK\n",
    "- BPSK\n",
    "- CPFSK\n",
    "- GFSK\n",
    "- PAM4\n",
    "- QAM16\n",
    "- QAM64\n",
    "- QPSK\n",
    "\n",
    "The following plots show examples of the time series complex signals for each modulation scheme."
   ]
  },
  {
   "cell_type": "markdown",
   "id": "ecb7218b-711e-4332-b383-e66bfd988293",
   "metadata": {},
   "source": [
    "![image.png](./figs/modulationschemes.png)"
   ]
  },
  {
   "cell_type": "markdown",
   "id": "bc2ae597-8e9b-4dd4-906b-8667d96c26a3",
   "metadata": {},
   "source": [
    "## Board Setup\n",
    "The AMD RFSoC2x2 needs to be configured to use the correct ADCs and DACs for this demo. Using a loopback cable, connect **ADC2** to **DAC2** so that it looks like the picture below.\n",
    "![image.jpg](./figs/rfsoc_top_down.JPG)"
   ]
  },
  {
   "cell_type": "markdown",
   "id": "5b3b1e29-e3d6-436d-be65-9b479bcdb7f6",
   "metadata": {
    "tags": []
   },
   "source": [
    "## Run the interactive demo!\n",
    "Play with the widgets and inspect the signals through the ipywidgets app!"
   ]
  },
  {
   "cell_type": "markdown",
   "id": "8d9bfe35-7257-444b-88bb-229aa508a016",
   "metadata": {},
   "source": [
    "### Define the modulation schemes and noise levels"
   ]
  },
  {
   "cell_type": "code",
   "execution_count": 5,
   "id": "03b7f5de-1701-4a9d-8bb3-b4c0be38412f",
   "metadata": {},
   "outputs": [],
   "source": [
    "mods = ['QPSK','BPSK','QAM16','QAM64','8PSK','PAM4','GFSK','CPFSK']\n",
    "snrs = ['-20','-16','-12','-8','-4','0','4','8','12','16','20','24']\n",
    "# Pass the bitstream name\n",
    "bitstream = 'bitstreams/rfsoc_quant_amc.bit'"
   ]
  },
  {
   "cell_type": "markdown",
   "id": "e6764278-54c5-432d-b9c6-b0fb583f6753",
   "metadata": {},
   "source": [
    "### Load the test set"
   ]
  },
  {
   "cell_type": "code",
   "execution_count": 2,
   "id": "d0da5751-d723-4f0c-b4e3-2b5ae8ffb2f5",
   "metadata": {},
   "outputs": [],
   "source": [
    "import pickle\n",
    "datapath = './data/demo_samples.pkl'\n",
    "# load data\n",
    "with open(datapath,'rb') as f:\n",
    "    dataset = pickle.load(f)\n",
    "classes = list(dataset.keys())"
   ]
  },
  {
   "cell_type": "code",
   "execution_count": 6,
   "id": "d70ac209-6fd9-4fe7-a818-0bb2a9a3aae2",
   "metadata": {},
   "outputs": [
    {
     "data": {
      "application/javascript": [
       "\n",
       "try {\n",
       "require(['notebook/js/codecell'], function(codecell) {\n",
       "  codecell.CodeCell.options_default.highlight_modes[\n",
       "      'magic_text/x-csrc'] = {'reg':[/^%%microblaze/]};\n",
       "  Jupyter.notebook.events.one('kernel_ready.Kernel', function(){\n",
       "      Jupyter.notebook.get_cells().map(function(cell){\n",
       "          if (cell.cell_type == 'code'){ cell.auto_highlight(); } }) ;\n",
       "  });\n",
       "});\n",
       "} catch (e) {};\n"
      ]
     },
     "metadata": {},
     "output_type": "display_data"
    },
    {
     "data": {
      "application/javascript": [
       "\n",
       "try {\n",
       "require(['notebook/js/codecell'], function(codecell) {\n",
       "  codecell.CodeCell.options_default.highlight_modes[\n",
       "      'magic_text/x-csrc'] = {'reg':[/^%%pybind11/]};\n",
       "  Jupyter.notebook.events.one('kernel_ready.Kernel', function(){\n",
       "      Jupyter.notebook.get_cells().map(function(cell){\n",
       "          if (cell.cell_type == 'code'){ cell.auto_highlight(); } }) ;\n",
       "  });\n",
       "});\n",
       "} catch (e) {};\n"
      ]
     },
     "metadata": {},
     "output_type": "display_data"
    }
   ],
   "source": [
    "from amc_widget import AMCWidget\n",
    "widget = AMCWidget(dataset, mods, snrs, bitstream)"
   ]
  },
  {
   "cell_type": "markdown",
   "id": "83c9a5b5-9e4e-4c59-883e-3ce65f5f360c",
   "metadata": {},
   "source": [
    "### Display the Widget App"
   ]
  },
  {
   "cell_type": "code",
   "execution_count": 7,
   "id": "8febf646-2fcd-4c02-87cd-8f4bbb45254f",
   "metadata": {},
   "outputs": [
    {
     "data": {
      "application/vnd.jupyter.widget-view+json": {
       "model_id": "7cec6f5a85da4adfb7fd1677e516ecc1",
       "version_major": 2,
       "version_minor": 0
      },
      "text/plain": [
       "HBox(children=(VBox(children=(HBox(children=(VBox(children=(VBox(children=(Dropdown(description='Mods:', layou…"
      ]
     },
     "metadata": {},
     "output_type": "display_data"
    }
   ],
   "source": [
    "widget.display()"
   ]
  },
  {
   "cell_type": "markdown",
   "id": "b3b43cdc-5789-4043-816d-74d8f093cede",
   "metadata": {},
   "source": [
    "----"
   ]
  }
 ],
 "metadata": {
  "kernelspec": {
   "display_name": "Python 3 (ipykernel)",
   "language": "python",
   "name": "python3"
  },
  "language_info": {
   "codemirror_mode": {
    "name": "ipython",
    "version": 3
   },
   "file_extension": ".py",
   "mimetype": "text/x-python",
   "name": "python",
   "nbconvert_exporter": "python",
   "pygments_lexer": "ipython3",
   "version": "3.10.4"
  }
 },
 "nbformat": 4,
 "nbformat_minor": 5
}
