{
 "cells": [
  {
   "cell_type": "markdown",
   "id": "88ceb975-897a-45e7-bb3d-5445cddeba4a",
   "metadata": {},
   "source": [
    "<img src=\"images/strathsdr_banner.png\" align=\"left\">"
   ]
  },
  {
   "cell_type": "markdown",
   "id": "f6ce58ec-018d-4f24-a8d3-5fad4667581d",
   "metadata": {
    "extensions": {
     "jupyter_dashboards": {
      "activeView": "grid_default",
      "views": {
       "grid_default": {
        "col": null,
        "height": 2,
        "hidden": true,
        "locked": true,
        "row": null,
        "width": 2
       }
      }
     }
    }
   },
   "source": [
    "# RFSoC Modulation Classification"
   ]
  },
  {
   "cell_type": "markdown",
   "id": "41ae7b4c-d20c-4f84-a4f0-2aa5f1968749",
   "metadata": {
    "extensions": {
     "jupyter_dashboards": {
      "activeView": "grid_default",
      "views": {
       "grid_default": {
        "col": null,
        "height": 2,
        "hidden": true,
        "locked": true,
        "row": null,
        "width": 2
       }
      }
     }
    },
    "tags": []
   },
   "source": [
    "## Overview\n",
    "> This work presents a real-time FPGA-based Convolutional Neural Network (CNN) architecture for modulation classification, implemented on the Zynq UltraScale+ RFSoC2x2 development board. Leveraging General Matrix Multiplication (GEMM) optimisations, fixed-point arithmetic, and quantisation-aware training, we develop models with 16-bit, 8-bit, and 4-bit weight precisions. A novel method for generating wireless communication datasets using the RFSoC is also introduced. The design integrates with the open-source PYNQ framework, enabling real-time modulation prediction via an interactive Jupyter app. The 16-bit model demonstrates superior accuracy with efficient resource use, highlighting its suitability for receiver deployment. The demo showcases the architecture's performance and practical application in real-world scenarios."
   ]
  },
  {
   "cell_type": "markdown",
   "id": "48e0e0ad-8538-48f7-9530-3dc2f80aa8e5",
   "metadata": {
    "extensions": {
     "jupyter_dashboards": {
      "activeView": "grid_default",
      "views": {
       "grid_default": {
        "col": null,
        "height": 2,
        "hidden": true,
        "locked": true,
        "row": null,
        "width": 2
       }
      }
     }
    }
   },
   "source": [
    "<figure>\n",
    "<img src='./images/experimentalSetup.svg' width='80%'/>\n",
    "<figcaption><b>Figure 1: The architecture overview of the RFSoC classifying signals.</b></figcaption>\n",
    "</figure>"
   ]
  },
  {
   "cell_type": "markdown",
   "id": "9cf5de6e-9ffd-4c1a-b216-f87b08ae1a51",
   "metadata": {},
   "source": [
    "### CNN Models\n",
    "The CNNs that are presented all include the same dimensions of layers, as seen in Table 1. The only difference exists between the precision of the weights and kernels of each model (16-bit, 8-bit, and 4-bit). The precision of the interlayer activations remains at 16-bits.\n",
    "<figure>\n",
    "<img src='./images/nndimensions.png' width='30%'/>\n",
    "<figcaption><b>Table 1: Neural Network Dimensions</b></figcaption>\n",
    "</figure>\n",
    "\n",
    "### Streaming-CNN FPGA architecture for Radio receiver applications\n",
    "This work demonstrates the CNN architecture presented by Maclellan et al. [2][3]. The architecture aims to process samples received by the ADC in real-time and continuously without dropping samples. The topological optimisations were chosen based on the flow of the received data throughout the CNN model."
   ]
  },
  {
   "cell_type": "markdown",
   "id": "eafc6356-212f-4959-92ba-584527e0e44c",
   "metadata": {
    "extensions": {
     "jupyter_dashboards": {
      "activeView": "grid_default",
      "views": {
       "grid_default": {
        "col": null,
        "height": 2,
        "hidden": true,
        "locked": true,
        "row": null,
        "width": 2
       }
      }
     }
    }
   },
   "source": [
    "## Aims\n",
    "- Introduce the problem of modulation classification\n",
    "- Select modulation schemes and transmit via RF-DAC.\n",
    "- Receive signal via RF-ADC and classify modulation scheme."
   ]
  },
  {
   "cell_type": "markdown",
   "id": "c8ec527d-1ef9-430d-aa60-767056986acc",
   "metadata": {
    "extensions": {
     "jupyter_dashboards": {
      "activeView": "grid_default",
      "views": {
       "grid_default": {
        "col": null,
        "height": 2,
        "hidden": true,
        "locked": true,
        "row": null,
        "width": 2
       }
      }
     }
    }
   },
   "source": [
    "## Last Revised\n",
    "- 08/11/24 - Initial revision\n",
    "----"
   ]
  },
  {
   "cell_type": "markdown",
   "id": "748aa856-d663-4167-8eb9-40744c45a380",
   "metadata": {
    "extensions": {
     "jupyter_dashboards": {
      "activeView": "grid_default",
      "views": {
       "grid_default": {
        "col": null,
        "height": 2,
        "hidden": true,
        "locked": true,
        "row": null,
        "width": 2
       }
      }
     }
    }
   },
   "source": [
    "## Hardware Setup\n",
    "For this demonstration, the RFSoC2x2 development board should be connected in RF loopback, with DAC A connected to ADC A. In line with the RF loopback cable insert a [Nooelec VeGA](https://www.nooelec.com/store/vega-barebones.html) variable gain amplifier and low-pass filter. The VeGA should be configured to digital mode with switches D0-5 in the off position.\n",
    "\n",
    "<figure>\n",
    "<img src='./images/board_loopback.png' width='500%'/>\n",
    "<figcaption><b>Figure 2: RF loopback with VeGA and Low-Pass Filter.</b></figcaption>\n",
    "</figure>\n",
    "\n",
    "<div class=\"alert alert-heading alert-danger\">\n",
    "<b>Warning:</b> The VeGA switches should be configured in digital mode with switches D0-5 to the off position. Changing these settings may provide too much power and saturate the ADC.\n",
    "</div>"
   ]
  },
  {
   "cell_type": "markdown",
   "id": "8c070499-3e73-487f-880c-e518dd049de3",
   "metadata": {
    "extensions": {
     "jupyter_dashboards": {
      "activeView": "grid_default",
      "views": {
       "grid_default": {
        "col": null,
        "height": 2,
        "hidden": true,
        "locked": true,
        "row": null,
        "width": 2
       }
      }
     }
    },
    "tags": []
   },
   "source": [
    "## Data set\n",
    "DeepSig.ai's RadioML data set [1] quickly established itself as a benchmark for evaluating DL architectures within the realm of wireless communications. There exists a disparity between the RadioML data set and the actual input received by the ADC of the RFSoC. This difference arises from the absence of additional factors that can deteriorate the signals impacted by the transceiver itself, such as the effects of applying digital filters that do not have an 'ideal' brick wall response, spurs, and harmonics introduced by the data converter, the influence of the ADC quantisation and signal power, and the possible artifacts associated with the stitching of the interleaved ADCs. Additionally, the RadioML data is provided in fixed length frames of 128 complex samples, yet for real-time classification a continuous data stream is required so that it can be output from the DAC.\n",
    "\n",
    "The data set created for this application uses the RFSoC within the generation loop. This is a pivotal step towards creating a data set that closely represents how data passes through the RFSoC, including the analogue and RF processing stages, and ultimately developing a DL network trained with this context in mind.\n",
    "\n",
    "<figure>\n",
    "<img src='./images/dataset_generation.png' width='80%'/>\n",
    "<figcaption><b>Figure 3: Data set generation process.</b></figcaption>\n",
    "</figure>\n",
    "\n",
    "The resulting data set consists of 8 modulation schemes:\n",
    "- QPSK\n",
    "- BPSK\n",
    "- QAM16\n",
    "- QAM64\n",
    "- PSK8\n",
    "- PAM4\n",
    "- GFSK\n",
    "- CPFSK\n",
    "\n",
    "With additive white Gaussian noise of -20, -16, -12, -8, -4, 0, 4, 8, 12, 16, 20, 24, 28, and 30dB SNR.\n",
    "\n",
    "### Inspect the data set prior to DAC transmission"
   ]
  },
  {
   "cell_type": "code",
   "execution_count": null,
   "id": "791b2ff6-7d70-43eb-aeeb-e01b9693fabd",
   "metadata": {
    "extensions": {
     "jupyter_dashboards": {
      "activeView": "grid_default",
      "views": {
       "grid_default": {
        "col": null,
        "height": 2,
        "hidden": true,
        "locked": true,
        "row": null,
        "width": 2
       }
      }
     }
    }
   },
   "outputs": [],
   "source": [
    "from rfsoc_quant_amc import helper as h\n",
    "\n",
    "filename = './transmit_test_SNR.pkl'\n",
    "dataset = h.load_dataset(filename)\n",
    "\n",
    "# Inspect an example\n",
    "mod = 'QPSK'\n",
    "snr = '30'\n",
    "data_mod = dataset[mod,snr][:,:,0]\n",
    "h.plot_dataset(data_mod)"
   ]
  },
  {
   "cell_type": "markdown",
   "id": "cfe72b06-b0fb-4905-ac76-fc6e36e05e22",
   "metadata": {
    "extensions": {
     "jupyter_dashboards": {
      "activeView": "grid_default",
      "views": {
       "grid_default": {
        "col": null,
        "height": 2,
        "hidden": true,
        "locked": true,
        "row": null,
        "width": 2
       }
      }
     }
    },
    "tags": []
   },
   "source": [
    "## Setup RF Data Converters\n",
    "DAC-A and ADC-A need to be configured in order to successfully transmit and receive signals.\n",
    "\n",
    "## Load Overlay\n",
    "Load the overlay through the custom `Overlay` class."
   ]
  },
  {
   "cell_type": "code",
   "execution_count": null,
   "id": "4de4e3eb-38f1-4c9a-801e-5d7f258b24fb",
   "metadata": {
    "extensions": {
     "jupyter_dashboards": {
      "activeView": "grid_default",
      "views": {
       "grid_default": {
        "col": null,
        "height": 2,
        "hidden": true,
        "locked": true,
        "row": null,
        "width": 2
       }
      }
     }
    }
   },
   "outputs": [],
   "source": [
    "from rfsoc_quant_amc.overlay import Overlay\n",
    "\n",
    "ol = Overlay()"
   ]
  },
  {
   "cell_type": "markdown",
   "id": "5ca1adf2-0a45-4043-9fbf-ffcb51155946",
   "metadata": {
    "extensions": {
     "jupyter_dashboards": {
      "activeView": "grid_default",
      "views": {
       "grid_default": {
        "col": null,
        "height": 2,
        "hidden": true,
        "locked": true,
        "row": null,
        "width": 2
       }
      }
     }
    },
    "tags": []
   },
   "source": [
    "### RF-ADC\n",
    "First the RF-ADC channel is configured."
   ]
  },
  {
   "cell_type": "code",
   "execution_count": null,
   "id": "2b2d0b30-8cd4-4328-96b4-c80aa3ec873a",
   "metadata": {
    "extensions": {
     "jupyter_dashboards": {
      "activeView": "grid_default",
      "views": {
       "grid_default": {
        "col": null,
        "height": 2,
        "hidden": true,
        "locked": true,
        "row": null,
        "width": 2
       }
      }
     }
    }
   },
   "outputs": [],
   "source": [
    "ADC_SAMPLING_FREQ = 1024.0 # MHz\n",
    "ADC_PLL_FREQ = 409.6 # MHz\n",
    "centre_freq = 400 # MHz\n",
    "\n",
    "ol.initialise_adcs(pll_freq=ADC_PLL_FREQ, \n",
    "                   sampling_freq=ADC_SAMPLING_FREQ, \n",
    "                   centre_freq=centre_freq)"
   ]
  },
  {
   "cell_type": "markdown",
   "id": "951c1f32-7778-4d4d-905e-73ddf6415ef1",
   "metadata": {
    "extensions": {
     "jupyter_dashboards": {
      "activeView": "grid_default",
      "views": {
       "grid_default": {
        "col": null,
        "height": 2,
        "hidden": true,
        "locked": true,
        "row": null,
        "width": 2
       }
      }
     }
    }
   },
   "source": [
    "### RF-DAC\n",
    "Next, the RF-DAC channel is configured."
   ]
  },
  {
   "cell_type": "code",
   "execution_count": null,
   "id": "2d7cefda-faca-452b-bba5-7374a981b866",
   "metadata": {
    "extensions": {
     "jupyter_dashboards": {
      "activeView": "grid_default",
      "views": {
       "grid_default": {
        "col": null,
        "height": 2,
        "hidden": true,
        "locked": true,
        "row": null,
        "width": 2
       }
      }
     }
    }
   },
   "outputs": [],
   "source": [
    "DAC_SAMPLING_FREQ = 1024.0 # MHz\n",
    "DAC_PLL_FREQ = 409.6 # MHz\n",
    "centre_freq = 400 # MHz\n",
    "\n",
    "ol.initialise_dacs(pll_freq=DAC_PLL_FREQ, \n",
    "                   sampling_freq=DAC_SAMPLING_FREQ, \n",
    "                   centre_freq=centre_freq)"
   ]
  },
  {
   "cell_type": "code",
   "execution_count": null,
   "id": "568d88ab-a2de-45c9-b89d-89c6d07d88e2",
   "metadata": {
    "extensions": {
     "jupyter_dashboards": {
      "activeView": "grid_default",
      "views": {
       "grid_default": {
        "col": null,
        "height": 2,
        "hidden": true,
        "locked": true,
        "row": null,
        "width": 2
       }
      }
     }
    }
   },
   "outputs": [],
   "source": [
    "ol.initialise_ips()"
   ]
  },
  {
   "cell_type": "markdown",
   "id": "db012a9e-ae1c-4df8-bb86-8f8e9519d207",
   "metadata": {
    "extensions": {
     "jupyter_dashboards": {
      "activeView": "grid_default",
      "views": {
       "grid_default": {
        "col": null,
        "height": 2,
        "hidden": true,
        "locked": true,
        "row": null,
        "width": 2
       }
      }
     }
    },
    "tags": []
   },
   "source": [
    "## Transmit data through DAC\n",
    "The data is transmitted from PS via an AXI Direct Memory Access IP configured in `cyclic` mode. The selected signal from the data set, which is 4,096 complex samples long, is `allocate` into memory and repeatedly transmitted. The signal passes through a chain of FIR interpolation filters increasing the sample rate of the signal to 128MHz. Finally, a carrier is applied to the signal prior to it being transmitted."
   ]
  },
  {
   "cell_type": "code",
   "execution_count": null,
   "id": "6a6dcb8e-5c08-498a-b9b7-75d03f40c173",
   "metadata": {
    "extensions": {
     "jupyter_dashboards": {
      "activeView": "grid_default",
      "views": {
       "grid_default": {
        "col": null,
        "height": 2,
        "hidden": true,
        "locked": true,
        "row": null,
        "width": 2
       }
      }
     }
    }
   },
   "outputs": [],
   "source": [
    "import numpy as np\n",
    "mods = ['QPSK','BPSK','QAM16','QAM64','PSK8','PAM4','GFSK','CPFSK']\n",
    "snrs = ['-20', '-16', '-12', '-8', '-4', '0', '4', '8', '12', '16', '20', '24', '28','30']\n",
    "\n",
    "mod = 'QPSK' # Choose from the selection of modulation schemes\n",
    "snr = '30'   # Choose from the selection of SNRs\n",
    "data_mod = dataset[mod,snr][:,:,0]\n",
    "# Scale to fit DAC range\n",
    "y = np.int16(data_mod*np.int16(pow(2,13)))\n",
    "# Interleave complex samples\n",
    "z = np.zeros(2*4096, dtype=np.int16)\n",
    "z[0::2] = y[0,:]\n",
    "z[1::2] = y[1,:]\n",
    "# Send to DAC\n",
    "ol.send(z)"
   ]
  },
  {
   "cell_type": "markdown",
   "id": "9fe64a73-55b2-40ac-9080-ce491efabc93",
   "metadata": {
    "extensions": {
     "jupyter_dashboards": {
      "activeView": "grid_default",
      "views": {
       "grid_default": {
        "col": null,
        "height": 2,
        "hidden": true,
        "locked": true,
        "row": null,
        "width": 2
       }
      }
     }
    }
   },
   "source": [
    "## Receive data through ADC\n",
    "The data is received at the ADC and passed through a chain of FIR decimation filters. The signal is then passed into each of the AMC models where each prediction is sent to the PS through an AXI-DMA. Additionally, the received signal is also packetised and sent to the PS."
   ]
  },
  {
   "cell_type": "code",
   "execution_count": null,
   "id": "6fdf3c63-7ddc-460a-9cfd-7fb452341d82",
   "metadata": {
    "extensions": {
     "jupyter_dashboards": {
      "activeView": "grid_default",
      "views": {
       "grid_default": {
        "col": null,
        "height": 2,
        "hidden": true,
        "locked": true,
        "row": null,
        "width": 2
       }
      }
     }
    }
   },
   "outputs": [],
   "source": [
    "[y_pred_0, y_pred_1, y_pred_2, re_data, im_data] = ol.receive_data()\n",
    "print(f\"Model 16w16a predicted {mods[y_pred_0]}\")\n",
    "print(f\"Model  8w16a predicted {mods[y_pred_1]}\")\n",
    "print(f\"Model  4w16a predicted {mods[y_pred_2]}\")"
   ]
  },
  {
   "cell_type": "markdown",
   "id": "f6f3223f-2c23-47a9-92b5-cb0c4d388355",
   "metadata": {
    "extensions": {
     "jupyter_dashboards": {
      "activeView": "grid_default",
      "views": {
       "grid_default": {
        "col": null,
        "height": 2,
        "hidden": true,
        "locked": true,
        "row": null,
        "width": 2
       }
      }
     }
    }
   },
   "source": [
    "### Inspect received signal\n",
    "The above models predicted the modulation scheme for the received signal. The following figure plots the samples that were given to the CNN models."
   ]
  },
  {
   "cell_type": "code",
   "execution_count": null,
   "id": "03edb4f8-8fc1-4468-836f-45173519c4a0",
   "metadata": {
    "extensions": {
     "jupyter_dashboards": {
      "activeView": "grid_default",
      "views": {
       "grid_default": {
        "col": null,
        "height": 2,
        "hidden": true,
        "locked": true,
        "row": null,
        "width": 2
       }
      }
     }
    }
   },
   "outputs": [],
   "source": [
    "h.plot_received(re_data, im_data)"
   ]
  },
  {
   "cell_type": "markdown",
   "id": "619eba05-f42f-49b3-b80b-59005fb459b2",
   "metadata": {},
   "source": [
    "## Interactive App\n",
    "The following cells run the `ipywidgets` app. The app provides an interative experience when experimenting with the CNN models.\n",
    "\n",
    "### Initialise the app class\n",
    "The `AMCWidget` class takes the overlay as an argument as well as the dataset, mods, and snrs.\n",
    "\n",
    "The app allows the user to choose the modulation scheme, noise, and phase offset. The 'Update' button reloads the data in the cyclic DMA and the 'play' button continually initialises the DMA transfer to read the CNN predictions."
   ]
  },
  {
   "cell_type": "code",
   "execution_count": null,
   "id": "39e6ee94-0399-4169-916b-1e8477ec16db",
   "metadata": {},
   "outputs": [],
   "source": [
    "from rfsoc_quant_amc.widget import AMCWidget\n",
    "widget = AMCWidget(ol, dataset, mods, snrs)\n",
    "widget.display()"
   ]
  },
  {
   "cell_type": "markdown",
   "id": "de9cc40c-8d74-432d-90dd-7c57dc2d8289",
   "metadata": {
    "tags": []
   },
   "source": [
    "## Overall Accuracy\n",
    "The model's performance is evaluated by each quantised model's ability to predict modulation schemes across various noise levels, as shown in the plots below. The 16-bit model shows poor performance at low SNR but achieves 80-100% accuracy for most modulation schemes at higher SNRs, although struggling to differentiate the QAM16 and QAM64 modulation schemes.\n",
    "\n",
    "The 8-bit weight model shows similar performance but due to the reduction in weight size, it loses accuracy. This is further exaggerated with the 4-bit weight model where a significant drop in accuracy is seen."
   ]
  },
  {
   "cell_type": "code",
   "execution_count": null,
   "id": "dc114d4a-17be-4604-9cb1-bc4c6a783da2",
   "metadata": {},
   "outputs": [],
   "source": [
    "from rfsoc_quant_amc.helper import load_results, plot_accuracies\n",
    "\n",
    "plot_16w, plot_8w, plot_4w, acc_16w, acc_8w, acc_4w = load_results()"
   ]
  },
  {
   "cell_type": "code",
   "execution_count": null,
   "id": "8013b1bb-5819-46d8-935b-84e8ad6b908a",
   "metadata": {},
   "outputs": [],
   "source": [
    "fig = plot_accuracies(acc_16w, acc_8w, acc_4w)\n",
    "fig.show()"
   ]
  },
  {
   "cell_type": "markdown",
   "id": "0d3c4aba-9eea-44f2-a3bf-70121e1a5b1e",
   "metadata": {},
   "source": [
    "### 16-bit weight model confusion matrices\n",
    "The following confusion matrices showcase the performance of the 16w16a CNN model at a selection of SNRs from -16, -8, 0, 8, 16, 24, 28, and 30dB SNR."
   ]
  },
  {
   "cell_type": "code",
   "execution_count": null,
   "id": "fcf7d3ef-26e2-492c-9a71-ac13a1d63e2c",
   "metadata": {},
   "outputs": [],
   "source": [
    "plot_16w.show()"
   ]
  },
  {
   "cell_type": "markdown",
   "id": "85b92f5d-293f-4672-9274-a5acd1b4e445",
   "metadata": {},
   "source": [
    "### 8-bit weight model confusion matrices\n",
    "The following confusion matrices showcase the performance of the 8w16a CNN model at a selection of SNRs from -16, -8, 0, 8, 16, 24, 28, and 30dB SNR."
   ]
  },
  {
   "cell_type": "code",
   "execution_count": null,
   "id": "43a01fa4-00ed-43e1-9331-2d7e4a54add6",
   "metadata": {},
   "outputs": [],
   "source": [
    "plot_8w.show()"
   ]
  },
  {
   "cell_type": "markdown",
   "id": "4f285d04-579d-4ff6-a61b-47e2e16223c2",
   "metadata": {},
   "source": [
    "### 4-bit weight model confusion matrices\n",
    "The following confusion matrices showcase the performance of the 4w16a CNN model at a selection of SNRs from -16, -8, 0, 8, 16, 24, 28, and 30dB SNR."
   ]
  },
  {
   "cell_type": "code",
   "execution_count": null,
   "id": "6e64d5b5-21ae-4f05-af85-36f5b10513ff",
   "metadata": {},
   "outputs": [],
   "source": [
    "plot_4w.show()"
   ]
  },
  {
   "cell_type": "markdown",
   "id": "a85db614-1629-4939-84b6-6b87f649babd",
   "metadata": {
    "extensions": {
     "jupyter_dashboards": {
      "activeView": "grid_default",
      "views": {
       "grid_default": {
        "col": null,
        "height": 2,
        "hidden": true,
        "locked": true,
        "row": null,
        "width": 2
       }
      }
     }
    }
   },
   "source": [
    "## References\n",
    "[1] T. J. O’Shea and J. Corgan, “Convolutional radio modulation recognition networks,” CoRR, vol. abs/1602.04105, 2016. [Online]. Available: http://arxiv.org/abs/1602.04105\n",
    "\n",
    "[2] A. Maclellan, L. H. Crockett and R. W. Stewart, \"Streaming Convolutional Neural Network FPGA Architecture for RFSoC Data Converters,\" 2023 21st IEEE Interregional NEWCAS Conference (NEWCAS), Edinburgh, United Kingdom, 2023, pp. 1-5, doi: 10.1109/NEWCAS57931.2023.10198198\n",
    "\n",
    "[3] A. Maclellan, L. H. Crockett and R. W. Stewart, \"RFSoC Modulation Classification With Streaming CNN: Data set Generation & Quantized-Aware Training,\" in IEEE Open Journal of Circuits and Systems, doi: 10.1109/OJCAS.2024.3509627."
   ]
  }
 ],
 "metadata": {
  "extensions": {
   "jupyter_dashboards": {
    "activeView": "grid_default",
    "version": 1,
    "views": {
     "grid_default": {
      "cellMargin": 2,
      "defaultCellHeight": 40,
      "maxColumns": 12,
      "name": "grid",
      "type": "grid"
     }
    }
   }
  },
  "kernelspec": {
   "display_name": "Python 3 (ipykernel)",
   "language": "python",
   "name": "python3"
  },
  "language_info": {
   "codemirror_mode": {
    "name": "ipython",
    "version": 3
   },
   "file_extension": ".py",
   "mimetype": "text/x-python",
   "name": "python",
   "nbconvert_exporter": "python",
   "pygments_lexer": "ipython3",
   "version": "3.10.4"
  }
 },
 "nbformat": 4,
 "nbformat_minor": 5
}
