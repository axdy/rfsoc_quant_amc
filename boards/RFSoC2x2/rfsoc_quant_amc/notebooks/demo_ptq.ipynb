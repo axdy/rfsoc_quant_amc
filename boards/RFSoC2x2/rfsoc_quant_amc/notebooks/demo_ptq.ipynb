{
 "cells": [
  {
   "cell_type": "markdown",
   "id": "970f6e05-2f8d-45f1-9eb0-07b6e1244e57",
   "metadata": {
    "extensions": {
     "jupyter_dashboards": {
      "activeView": "grid_default",
      "views": {
       "grid_default": {
        "col": 0,
        "height": 9,
        "hidden": false,
        "locked": true,
        "row": 0,
        "width": 12
       }
      }
     }
    },
    "tags": []
   },
   "source": [
    "<img src=\"assets/strathsdr_banner.png\" align=\"left\">"
   ]
  },
  {
   "cell_type": "markdown",
   "id": "797ce7d8-66fd-41a3-a88f-87898739f22a",
   "metadata": {
    "extensions": {
     "jupyter_dashboards": {
      "activeView": "grid_default",
      "views": {
       "grid_default": {
        "col": null,
        "height": 2,
        "hidden": true,
        "locked": true,
        "row": null,
        "width": 2
       }
      }
     }
    },
    "tags": []
   },
   "source": [
    "# Modulation Classification with RFSoC with Post-Quantisation Trained (PTQ) Weights\n",
    "\n",
    "## Overview\n",
    "Deploying **4** CNN models each with different weight fixed-point widths **(16-bit, 8-bit, 4-bit, and 2-bit)**. All 4 models are operating on live signals in real-time and at the same time.\n",
    "\n",
    "## Signal Specifications\n",
    "Option of **8** modulation schemes: **QPSK, BPSK, QAM16, QAM64, PSK8, PAM4, GFSK, CPFSK**.\n",
    "\n",
    "**Sampling Rate**: 128 MSPS\n",
    "\n",
    "**Decimation/Interpolation Rate**: 32\n",
    "\n",
    "## Throughput and Latency for each Model\n",
    "*With PE unrolling along the number of filters (N) dimension*\n",
    "\n",
    "**Throughput**: 34k classifications per second\n",
    "\n",
    "**Latency**: 29.6$\\mu s$"
   ]
  },
  {
   "cell_type": "markdown",
   "id": "5739954d-5088-4a26-b63d-a120c2fbaa88",
   "metadata": {
    "extensions": {
     "jupyter_dashboards": {
      "activeView": "grid_default",
      "views": {
       "grid_default": {
        "col": 0,
        "height": 21,
        "hidden": false,
        "locked": true,
        "row": 9,
        "width": 12
       }
      }
     }
    },
    "tags": []
   },
   "source": [
    "# Post-Training Quantisation (PTQ)\n",
    "\n",
    "In this FPGA bitstream, each of the models have used weights quantised after training. The resulting loss plots and weight value distributions for each model are shown.\n",
    "\n",
    "<div style=\"display: flex; justify-content: center; gap: 20px; flex-wrap: wrap;\">\n",
    "  <figure style=\"flex: 1 1 45%; margin: 0; text-align: center;\">\n",
    "    <img src=\"./assets/loss_deeprfsoc.svg\" style=\"width: 100%; height: auto;\"/>\n",
    "    <figcaption><b>Figure 1: Training loss plots.</b></figcaption>\n",
    "  </figure>\n",
    "\n",
    "  <figure style=\"flex: 1 1 45%; margin: 0; text-align: center;\">\n",
    "    <img src=\"./assets/ptq_weight_dist.svg\" style=\"width: 80%; height: auto;\"/>\n",
    "    <figcaption><b>Figure 2: Quantised weight value distribution.</b></figcaption>\n",
    "  </figure>\n",
    "</div>\n"
   ]
  },
  {
   "cell_type": "markdown",
   "id": "161a5747-aa59-45ac-848d-ff2313f65457",
   "metadata": {
    "extensions": {
     "jupyter_dashboards": {
      "activeView": "grid_default",
      "views": {
       "grid_default": {
        "col": 0,
        "height": 22,
        "hidden": false,
        "locked": true,
        "row": 30,
        "width": 12
       }
      }
     }
    },
    "tags": []
   },
   "source": [
    "# FPGA Programmable Logic Configuration\n",
    "The FPGA is configured in a typical radio receiver setup where a signals is received at the ADC and samples are streamed into the radio. The samples are decimated and processed by the deployed model to determine the modulation scheme of the signal.\n",
    "\n",
    "<figure>\n",
    "<img src='./assets/experimentalSetup.svg' width='80%'/>\n",
    "<figcaption><b>Figure 1: The architecture overview of the RFSoC classifying signals.</b></figcaption>\n",
    "</figure>"
   ]
  },
  {
   "cell_type": "markdown",
   "id": "e5aeecae-17fb-4ee9-b7e4-2a3c491bfa13",
   "metadata": {
    "extensions": {
     "jupyter_dashboards": {
      "activeView": "grid_default",
      "views": {
       "grid_default": {
        "col": null,
        "height": 2,
        "hidden": true,
        "locked": true,
        "row": null,
        "width": 2
       }
      }
     }
    }
   },
   "source": [
    "# PTQ Weight Overall Accuracies\n",
    "The accuracies achieved when quantising weights after training results in very different curves for all quantisation widths, despite the reduction in available precision.\n",
    "\n",
    "<figure>\n",
    "<img src='./assets/ptq_loopback_accuracy.svg' width='60%'/>\n",
    "<figcaption><b>Figure 1: Accuracy of each model deployed with models using PTQ.</b></figcaption>\n",
    "</figure>"
   ]
  },
  {
   "cell_type": "code",
   "execution_count": null,
   "id": "58c13a6f-dd7f-493e-b919-aa1f26c6731b",
   "metadata": {
    "extensions": {
     "jupyter_dashboards": {
      "activeView": "grid_default",
      "views": {
       "grid_default": {
        "col": null,
        "height": 2,
        "hidden": true,
        "locked": true,
        "row": null,
        "width": 2
       }
      }
     }
    }
   },
   "outputs": [],
   "source": [
    "from rfsoc_quant_amc.overlay import Overlay\n",
    "\n",
    "ol = Overlay(model='ptq')"
   ]
  },
  {
   "cell_type": "code",
   "execution_count": null,
   "id": "859c1c05-bafe-4514-9188-78979d4ff3ef",
   "metadata": {
    "extensions": {
     "jupyter_dashboards": {
      "activeView": "grid_default",
      "views": {
       "grid_default": {
        "col": null,
        "height": 2,
        "hidden": true,
        "locked": true,
        "row": null,
        "width": 2
       }
      }
     }
    }
   },
   "outputs": [],
   "source": [
    "from rfsoc_quant_amc import helper as h\n",
    "\n",
    "filename = 'transmit_test_SNR.pkl'\n",
    "dataset = h.load_dataset(filename)\n",
    "\n",
    "# Inspect an example\n",
    "mod = 'QPSK'\n",
    "snr = '30'\n",
    "data_mod = dataset[mod,snr][:,:,0]\n",
    "h.plot_dataset(data_mod)"
   ]
  },
  {
   "cell_type": "code",
   "execution_count": null,
   "id": "385a777a-1b25-409b-9b03-ea971115b54f",
   "metadata": {
    "extensions": {
     "jupyter_dashboards": {
      "activeView": "grid_default",
      "views": {
       "grid_default": {
        "col": null,
        "height": 2,
        "hidden": true,
        "locked": true,
        "row": null,
        "width": 2
       }
      }
     }
    }
   },
   "outputs": [],
   "source": [
    "ADC_SAMPLING_FREQ = 1024.0 # MHz\n",
    "ADC_PLL_FREQ = 409.6 # MHz\n",
    "centre_freq = 400 # MHz\n",
    "\n",
    "ol.initialise_adcs(pll_freq=ADC_PLL_FREQ, \n",
    "                   sampling_freq=ADC_SAMPLING_FREQ, \n",
    "                   centre_freq=centre_freq)"
   ]
  },
  {
   "cell_type": "code",
   "execution_count": null,
   "id": "bcb8c81e-5f49-4816-b548-be5508fbda32",
   "metadata": {
    "extensions": {
     "jupyter_dashboards": {
      "activeView": "grid_default",
      "views": {
       "grid_default": {
        "col": null,
        "height": 2,
        "hidden": true,
        "locked": true,
        "row": null,
        "width": 2
       }
      }
     }
    }
   },
   "outputs": [],
   "source": [
    "DAC_SAMPLING_FREQ = 1024.0 # MHz\n",
    "DAC_PLL_FREQ = 409.6 # MHz\n",
    "centre_freq = 400 # MHz\n",
    "\n",
    "ol.initialise_dacs(pll_freq=DAC_PLL_FREQ, \n",
    "                   sampling_freq=DAC_SAMPLING_FREQ, \n",
    "                   centre_freq=centre_freq)"
   ]
  },
  {
   "cell_type": "code",
   "execution_count": null,
   "id": "b7195f59-178c-4a8f-bf92-aaafde4d3a83",
   "metadata": {
    "extensions": {
     "jupyter_dashboards": {
      "activeView": "grid_default",
      "views": {
       "grid_default": {
        "col": null,
        "height": 2,
        "hidden": true,
        "locked": true,
        "row": null,
        "width": 2
       }
      }
     }
    }
   },
   "outputs": [],
   "source": [
    "ol.initialise_ips()"
   ]
  },
  {
   "cell_type": "code",
   "execution_count": null,
   "id": "9b1aae03-1e78-48d4-b2e6-faeeffa6be97",
   "metadata": {
    "extensions": {
     "jupyter_dashboards": {
      "activeView": "grid_default",
      "views": {
       "grid_default": {
        "col": null,
        "height": 2,
        "hidden": true,
        "locked": true,
        "row": null,
        "width": 2
       }
      }
     }
    }
   },
   "outputs": [],
   "source": [
    "import numpy as np\n",
    "mods = ['QPSK','BPSK','QAM16','QAM64','PSK8','PAM4','GFSK','CPFSK']\n",
    "snrs = ['-20', '-16', '-12', '-8', '-4', '0', '4', '8', '12', '16', '20', '24', '28','30']\n",
    "\n",
    "mod = 'QPSK' # Choose from the selection of modulation schemes\n",
    "snr = '30'   # Choose from the selection of SNRs\n",
    "data_mod = dataset[mod,snr][:,:,0]\n",
    "# Scale to fit DAC range\n",
    "y = np.int16(data_mod*np.int16(pow(2,13)))\n",
    "# Interleave complex samples\n",
    "z = np.zeros(2*4096, dtype=np.int16)\n",
    "z[0::2] = y[0,:]\n",
    "z[1::2] = y[1,:]\n",
    "# Send to DAC\n",
    "ol.send(z)"
   ]
  },
  {
   "cell_type": "code",
   "execution_count": null,
   "id": "7867e955-bc0d-43a3-b3fe-c2d1e1d29474",
   "metadata": {
    "extensions": {
     "jupyter_dashboards": {
      "activeView": "grid_default",
      "views": {
       "grid_default": {
        "col": null,
        "height": 2,
        "hidden": true,
        "locked": true,
        "row": null,
        "width": 2
       }
      }
     }
    }
   },
   "outputs": [],
   "source": [
    "[y_pred_0, y_pred_1, y_pred_2, y_pred_3, re_data, im_data] = ol.receive_data()\n",
    "print(f\"Model 16w16a predicted {mods[y_pred_0]}\")\n",
    "print(f\"Model  8w16a predicted {mods[y_pred_1]}\")\n",
    "print(f\"Model  4w16a predicted {mods[y_pred_2]}\")\n",
    "print(f\"Model  4w16a predicted {mods[y_pred_3]}\")"
   ]
  },
  {
   "cell_type": "code",
   "execution_count": null,
   "id": "c302bf58-16c4-4d10-ac69-9ab476e5ae9f",
   "metadata": {
    "extensions": {
     "jupyter_dashboards": {
      "activeView": "grid_default",
      "views": {
       "grid_default": {
        "col": null,
        "height": 2,
        "hidden": true,
        "locked": true,
        "row": null,
        "width": 2
       }
      }
     }
    }
   },
   "outputs": [],
   "source": [
    "h.plot_received(re_data, im_data)"
   ]
  },
  {
   "cell_type": "code",
   "execution_count": null,
   "id": "7fb3d365-4d48-4d73-bb49-e06756ded750",
   "metadata": {
    "extensions": {
     "jupyter_dashboards": {
      "activeView": "grid_default",
      "views": {
       "grid_default": {
        "col": 0,
        "height": 35,
        "hidden": false,
        "locked": true,
        "row": 52,
        "width": 12
       }
      }
     }
    },
    "tags": []
   },
   "outputs": [],
   "source": [
    "# from rfsoc_quant_amc.new_widget import AMCWidget\n",
    "from rfsoc_quant_amc.widget import AMCWidget\n",
    "widget = AMCWidget(ol, dataset, mods, snrs)\n",
    "widget.display()"
   ]
  },
  {
   "cell_type": "markdown",
   "id": "012a4845-25e7-4531-aca1-19842bba1f49",
   "metadata": {
    "extensions": {
     "jupyter_dashboards": {
      "activeView": "grid_default",
      "views": {
       "grid_default": {
        "col": null,
        "height": 2,
        "hidden": true,
        "locked": true,
        "row": null,
        "width": 2
       }
      }
     }
    }
   },
   "source": [
    "---"
   ]
  }
 ],
 "metadata": {
  "extensions": {
   "jupyter_dashboards": {
    "activeView": "grid_default",
    "version": 1,
    "views": {
     "grid_default": {
      "cellMargin": 2,
      "defaultCellHeight": 40,
      "maxColumns": 12,
      "name": "grid",
      "type": "grid"
     }
    }
   }
  },
  "kernelspec": {
   "display_name": "Python 3 (ipykernel)",
   "language": "python",
   "name": "python3"
  },
  "language_info": {
   "codemirror_mode": {
    "name": "ipython",
    "version": 3
   },
   "file_extension": ".py",
   "mimetype": "text/x-python",
   "name": "python",
   "nbconvert_exporter": "python",
   "pygments_lexer": "ipython3",
   "version": "3.10.4"
  }
 },
 "nbformat": 4,
 "nbformat_minor": 5
}
